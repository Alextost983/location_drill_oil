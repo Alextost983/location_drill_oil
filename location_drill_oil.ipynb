{
 "cells": [
  {
   "attachments": {},
   "cell_type": "markdown",
   "metadata": {},
   "source": [
    "# Выбор локации для скважины"
   ]
  },
  {
   "attachments": {},
   "cell_type": "markdown",
   "metadata": {},
   "source": [
    "Допустим, вы работаете в добывающей компании «ГлавРосГосНефть». Нужно решить, где бурить новую скважину.\n",
    "\n",
    "Возьмем пробы нефти в трёх регионах: в каждом 10 000 месторождений, где измерили качество нефти и объём её запасов. Строим модель машинного обучения, которая поможет определить регион, где добыча принесёт наибольшую прибыль. Проанализируем возможную прибыль и риски техникой *Bootstrap.*\n",
    "\n",
    "Шаги для выбора локации:\n",
    "\n",
    "- В избранном регионе ищем месторождения, для каждого определяем значения признаков;\n",
    "- Строим модель и оцениваем объём запасов;\n",
    "- Выбираем месторождения с самым высокими оценками значений. Количество месторождений зависит от бюджета компании и стоимости разработки одной скважины;\n",
    "- Прибыль равна суммарной прибыли отобранных месторождений."
   ]
  },
  {
   "attachments": {},
   "cell_type": "markdown",
   "metadata": {},
   "source": [
    "## Загрузка и подготовка данных"
   ]
  },
  {
   "cell_type": "code",
   "execution_count": 1,
   "metadata": {},
   "outputs": [],
   "source": [
    "import pandas as pd\n",
    "import numpy as np\n",
    "from sklearn.model_selection import train_test_split\n",
    "from sklearn.linear_model import LinearRegression\n",
    "from sklearn.metrics import mean_squared_error\n",
    "from IPython.display import display\n",
    "import warnings\n",
    "from scipy import stats"
   ]
  },
  {
   "attachments": {},
   "cell_type": "markdown",
   "metadata": {},
   "source": [
    "warnings.filterwarnings(\"ignore\")"
   ]
  },
  {
   "attachments": {},
   "cell_type": "markdown",
   "metadata": {},
   "source": [
    "Рассмотрим датасеты"
   ]
  },
  {
   "cell_type": "code",
   "execution_count": 2,
   "metadata": {},
   "outputs": [
    {
     "data": {
      "text/html": [
       "<div>\n",
       "<style scoped>\n",
       "    .dataframe tbody tr th:only-of-type {\n",
       "        vertical-align: middle;\n",
       "    }\n",
       "\n",
       "    .dataframe tbody tr th {\n",
       "        vertical-align: top;\n",
       "    }\n",
       "\n",
       "    .dataframe thead th {\n",
       "        text-align: right;\n",
       "    }\n",
       "</style>\n",
       "<table border=\"1\" class=\"dataframe\">\n",
       "  <thead>\n",
       "    <tr style=\"text-align: right;\">\n",
       "      <th></th>\n",
       "      <th>id</th>\n",
       "      <th>f0</th>\n",
       "      <th>f1</th>\n",
       "      <th>f2</th>\n",
       "      <th>product</th>\n",
       "    </tr>\n",
       "  </thead>\n",
       "  <tbody>\n",
       "    <tr>\n",
       "      <th>0</th>\n",
       "      <td>txEyH</td>\n",
       "      <td>0.705745</td>\n",
       "      <td>-0.497823</td>\n",
       "      <td>1.221170</td>\n",
       "      <td>105.280062</td>\n",
       "    </tr>\n",
       "    <tr>\n",
       "      <th>1</th>\n",
       "      <td>2acmU</td>\n",
       "      <td>1.334711</td>\n",
       "      <td>-0.340164</td>\n",
       "      <td>4.365080</td>\n",
       "      <td>73.037750</td>\n",
       "    </tr>\n",
       "    <tr>\n",
       "      <th>2</th>\n",
       "      <td>409Wp</td>\n",
       "      <td>1.022732</td>\n",
       "      <td>0.151990</td>\n",
       "      <td>1.419926</td>\n",
       "      <td>85.265647</td>\n",
       "    </tr>\n",
       "    <tr>\n",
       "      <th>3</th>\n",
       "      <td>iJLyR</td>\n",
       "      <td>-0.032172</td>\n",
       "      <td>0.139033</td>\n",
       "      <td>2.978566</td>\n",
       "      <td>168.620776</td>\n",
       "    </tr>\n",
       "    <tr>\n",
       "      <th>4</th>\n",
       "      <td>Xdl7t</td>\n",
       "      <td>1.988431</td>\n",
       "      <td>0.155413</td>\n",
       "      <td>4.751769</td>\n",
       "      <td>154.036647</td>\n",
       "    </tr>\n",
       "  </tbody>\n",
       "</table>\n",
       "</div>"
      ],
      "text/plain": [
       "      id        f0        f1        f2     product\n",
       "0  txEyH  0.705745 -0.497823  1.221170  105.280062\n",
       "1  2acmU  1.334711 -0.340164  4.365080   73.037750\n",
       "2  409Wp  1.022732  0.151990  1.419926   85.265647\n",
       "3  iJLyR -0.032172  0.139033  2.978566  168.620776\n",
       "4  Xdl7t  1.988431  0.155413  4.751769  154.036647"
      ]
     },
     "metadata": {},
     "output_type": "display_data"
    }
   ],
   "source": [
    "data0=pd.read_csv('/datasets/geo_data_0.csv')\n",
    "display(data0.head())"
   ]
  },
  {
   "cell_type": "code",
   "execution_count": 3,
   "metadata": {},
   "outputs": [
    {
     "data": {
      "text/html": [
       "<div>\n",
       "<style scoped>\n",
       "    .dataframe tbody tr th:only-of-type {\n",
       "        vertical-align: middle;\n",
       "    }\n",
       "\n",
       "    .dataframe tbody tr th {\n",
       "        vertical-align: top;\n",
       "    }\n",
       "\n",
       "    .dataframe thead th {\n",
       "        text-align: right;\n",
       "    }\n",
       "</style>\n",
       "<table border=\"1\" class=\"dataframe\">\n",
       "  <thead>\n",
       "    <tr style=\"text-align: right;\">\n",
       "      <th></th>\n",
       "      <th>id</th>\n",
       "      <th>f0</th>\n",
       "      <th>f1</th>\n",
       "      <th>f2</th>\n",
       "      <th>product</th>\n",
       "    </tr>\n",
       "  </thead>\n",
       "  <tbody>\n",
       "    <tr>\n",
       "      <th>0</th>\n",
       "      <td>kBEdx</td>\n",
       "      <td>-15.001348</td>\n",
       "      <td>-8.276000</td>\n",
       "      <td>-0.005876</td>\n",
       "      <td>3.179103</td>\n",
       "    </tr>\n",
       "    <tr>\n",
       "      <th>1</th>\n",
       "      <td>62mP7</td>\n",
       "      <td>14.272088</td>\n",
       "      <td>-3.475083</td>\n",
       "      <td>0.999183</td>\n",
       "      <td>26.953261</td>\n",
       "    </tr>\n",
       "    <tr>\n",
       "      <th>2</th>\n",
       "      <td>vyE1P</td>\n",
       "      <td>6.263187</td>\n",
       "      <td>-5.948386</td>\n",
       "      <td>5.001160</td>\n",
       "      <td>134.766305</td>\n",
       "    </tr>\n",
       "    <tr>\n",
       "      <th>3</th>\n",
       "      <td>KcrkZ</td>\n",
       "      <td>-13.081196</td>\n",
       "      <td>-11.506057</td>\n",
       "      <td>4.999415</td>\n",
       "      <td>137.945408</td>\n",
       "    </tr>\n",
       "    <tr>\n",
       "      <th>4</th>\n",
       "      <td>AHL4O</td>\n",
       "      <td>12.702195</td>\n",
       "      <td>-8.147433</td>\n",
       "      <td>5.004363</td>\n",
       "      <td>134.766305</td>\n",
       "    </tr>\n",
       "  </tbody>\n",
       "</table>\n",
       "</div>"
      ],
      "text/plain": [
       "      id         f0         f1        f2     product\n",
       "0  kBEdx -15.001348  -8.276000 -0.005876    3.179103\n",
       "1  62mP7  14.272088  -3.475083  0.999183   26.953261\n",
       "2  vyE1P   6.263187  -5.948386  5.001160  134.766305\n",
       "3  KcrkZ -13.081196 -11.506057  4.999415  137.945408\n",
       "4  AHL4O  12.702195  -8.147433  5.004363  134.766305"
      ]
     },
     "execution_count": 3,
     "metadata": {},
     "output_type": "execute_result"
    }
   ],
   "source": [
    "data1=pd.read_csv('/datasets/geo_data_1.csv')\n",
    "data1.head()"
   ]
  },
  {
   "cell_type": "code",
   "execution_count": 4,
   "metadata": {},
   "outputs": [
    {
     "data": {
      "text/html": [
       "<div>\n",
       "<style scoped>\n",
       "    .dataframe tbody tr th:only-of-type {\n",
       "        vertical-align: middle;\n",
       "    }\n",
       "\n",
       "    .dataframe tbody tr th {\n",
       "        vertical-align: top;\n",
       "    }\n",
       "\n",
       "    .dataframe thead th {\n",
       "        text-align: right;\n",
       "    }\n",
       "</style>\n",
       "<table border=\"1\" class=\"dataframe\">\n",
       "  <thead>\n",
       "    <tr style=\"text-align: right;\">\n",
       "      <th></th>\n",
       "      <th>id</th>\n",
       "      <th>f0</th>\n",
       "      <th>f1</th>\n",
       "      <th>f2</th>\n",
       "      <th>product</th>\n",
       "    </tr>\n",
       "  </thead>\n",
       "  <tbody>\n",
       "    <tr>\n",
       "      <th>0</th>\n",
       "      <td>fwXo0</td>\n",
       "      <td>-1.146987</td>\n",
       "      <td>0.963328</td>\n",
       "      <td>-0.828965</td>\n",
       "      <td>27.758673</td>\n",
       "    </tr>\n",
       "    <tr>\n",
       "      <th>1</th>\n",
       "      <td>WJtFt</td>\n",
       "      <td>0.262778</td>\n",
       "      <td>0.269839</td>\n",
       "      <td>-2.530187</td>\n",
       "      <td>56.069697</td>\n",
       "    </tr>\n",
       "    <tr>\n",
       "      <th>2</th>\n",
       "      <td>ovLUW</td>\n",
       "      <td>0.194587</td>\n",
       "      <td>0.289035</td>\n",
       "      <td>-5.586433</td>\n",
       "      <td>62.871910</td>\n",
       "    </tr>\n",
       "    <tr>\n",
       "      <th>3</th>\n",
       "      <td>q6cA6</td>\n",
       "      <td>2.236060</td>\n",
       "      <td>-0.553760</td>\n",
       "      <td>0.930038</td>\n",
       "      <td>114.572842</td>\n",
       "    </tr>\n",
       "    <tr>\n",
       "      <th>4</th>\n",
       "      <td>WPMUX</td>\n",
       "      <td>-0.515993</td>\n",
       "      <td>1.716266</td>\n",
       "      <td>5.899011</td>\n",
       "      <td>149.600746</td>\n",
       "    </tr>\n",
       "  </tbody>\n",
       "</table>\n",
       "</div>"
      ],
      "text/plain": [
       "      id        f0        f1        f2     product\n",
       "0  fwXo0 -1.146987  0.963328 -0.828965   27.758673\n",
       "1  WJtFt  0.262778  0.269839 -2.530187   56.069697\n",
       "2  ovLUW  0.194587  0.289035 -5.586433   62.871910\n",
       "3  q6cA6  2.236060 -0.553760  0.930038  114.572842\n",
       "4  WPMUX -0.515993  1.716266  5.899011  149.600746"
      ]
     },
     "execution_count": 4,
     "metadata": {},
     "output_type": "execute_result"
    }
   ],
   "source": [
    "data2=pd.read_csv('/datasets/geo_data_2.csv')\n",
    "data2.head()"
   ]
  },
  {
   "attachments": {},
   "cell_type": "markdown",
   "metadata": {},
   "source": [
    "Создадим функцию, которая выведет основные параметры датасетов"
   ]
  },
  {
   "cell_type": "code",
   "execution_count": 5,
   "metadata": {},
   "outputs": [
    {
     "name": "stdout",
     "output_type": "stream",
     "text": [
      "**Общая информация датафрейма**\n",
      "<class 'pandas.core.frame.DataFrame'>\n",
      "RangeIndex: 100000 entries, 0 to 99999\n",
      "Data columns (total 5 columns):\n",
      " #   Column   Non-Null Count   Dtype  \n",
      "---  ------   --------------   -----  \n",
      " 0   id       100000 non-null  object \n",
      " 1   f0       100000 non-null  float64\n",
      " 2   f1       100000 non-null  float64\n",
      " 3   f2       100000 non-null  float64\n",
      " 4   product  100000 non-null  float64\n",
      "dtypes: float64(4), object(1)\n",
      "memory usage: 3.8+ MB\n",
      "None\n",
      "-------------------------------------------------------------------------------------------------------------\n",
      "**Просмотр статистических данных**\n",
      "                  f0             f1             f2        product\n",
      "count  100000.000000  100000.000000  100000.000000  100000.000000\n",
      "mean        0.500419       0.250143       2.502647      92.500000\n",
      "std         0.871832       0.504433       3.248248      44.288691\n",
      "min        -1.408605      -0.848218     -12.088328       0.000000\n",
      "25%        -0.072580      -0.200881       0.287748      56.497507\n",
      "50%         0.502360       0.250252       2.515969      91.849972\n",
      "75%         1.073581       0.700646       4.715088     128.564089\n",
      "max         2.362331       1.343769      16.003790     185.364347\n",
      "-------------------------------------------------------------------------------------------------------------\n",
      "**Вывод рандомных строк датафрейма**\n",
      "          id        f0        f1        f2     product\n",
      "43660  MUOMg  0.951436  0.296027  6.817623   89.929339\n",
      "87278  OZXkj  0.800004  0.231734 -2.650680   94.203721\n",
      "14317  adoVK  0.726819 -0.422117  2.645328  123.553649\n",
      "-------------------------------------------------------------------------------------------------------------\n",
      "**Вывод первых пяти строк датафрейма**\n",
      "      id        f0        f1        f2     product\n",
      "0  txEyH  0.705745 -0.497823  1.221170  105.280062\n",
      "1  2acmU  1.334711 -0.340164  4.365080   73.037750\n",
      "2  409Wp  1.022732  0.151990  1.419926   85.265647\n",
      "3  iJLyR -0.032172  0.139033  2.978566  168.620776\n",
      "4  Xdl7t  1.988431  0.155413  4.751769  154.036647\n",
      "-------------------------------------------------------------------------------------------------------------\n",
      "**Вывод количесва дубликатов датафрейма**\n",
      "0\n",
      "-------------------------------------------------------------------------------------------------------------\n",
      "**Вывод количесва пропущеных значений датафрейма**\n",
      "id         0\n",
      "f0         0\n",
      "f1         0\n",
      "f2         0\n",
      "product    0\n",
      "dtype: int64\n",
      "-------------------------------------------------------------------------------------------------------------\n",
      "None\n",
      "**Общая информация датафрейма**\n",
      "<class 'pandas.core.frame.DataFrame'>\n",
      "RangeIndex: 100000 entries, 0 to 99999\n",
      "Data columns (total 5 columns):\n",
      " #   Column   Non-Null Count   Dtype  \n",
      "---  ------   --------------   -----  \n",
      " 0   id       100000 non-null  object \n",
      " 1   f0       100000 non-null  float64\n",
      " 2   f1       100000 non-null  float64\n",
      " 3   f2       100000 non-null  float64\n",
      " 4   product  100000 non-null  float64\n",
      "dtypes: float64(4), object(1)\n",
      "memory usage: 3.8+ MB\n",
      "None\n",
      "-------------------------------------------------------------------------------------------------------------\n",
      "**Просмотр статистических данных**\n",
      "                  f0             f1             f2        product\n",
      "count  100000.000000  100000.000000  100000.000000  100000.000000\n",
      "mean        1.141296      -4.796579       2.494541      68.825000\n",
      "std         8.965932       5.119872       1.703572      45.944423\n",
      "min       -31.609576     -26.358598      -0.018144       0.000000\n",
      "25%        -6.298551      -8.267985       1.000021      26.953261\n",
      "50%         1.153055      -4.813172       2.011479      57.085625\n",
      "75%         8.621015      -1.332816       3.999904     107.813044\n",
      "max        29.421755      18.734063       5.019721     137.945408\n",
      "-------------------------------------------------------------------------------------------------------------\n",
      "**Вывод рандомных строк датафрейма**\n",
      "          id         f0         f1        f2    product\n",
      "43660  lkoIC   2.365991   7.466907  2.990761  80.859783\n",
      "87278  CUVk0  13.475920 -10.191469 -0.000108   0.000000\n",
      "14317  A4aSR   9.993776 -15.519432  2.011834  53.906522\n",
      "-------------------------------------------------------------------------------------------------------------\n",
      "**Вывод первых пяти строк датафрейма**\n",
      "      id         f0         f1        f2     product\n",
      "0  kBEdx -15.001348  -8.276000 -0.005876    3.179103\n",
      "1  62mP7  14.272088  -3.475083  0.999183   26.953261\n",
      "2  vyE1P   6.263187  -5.948386  5.001160  134.766305\n",
      "3  KcrkZ -13.081196 -11.506057  4.999415  137.945408\n",
      "4  AHL4O  12.702195  -8.147433  5.004363  134.766305\n",
      "-------------------------------------------------------------------------------------------------------------\n",
      "**Вывод количесва дубликатов датафрейма**\n",
      "0\n",
      "-------------------------------------------------------------------------------------------------------------\n",
      "**Вывод количесва пропущеных значений датафрейма**\n",
      "id         0\n",
      "f0         0\n",
      "f1         0\n",
      "f2         0\n",
      "product    0\n",
      "dtype: int64\n",
      "-------------------------------------------------------------------------------------------------------------\n",
      "None\n",
      "**Общая информация датафрейма**\n",
      "<class 'pandas.core.frame.DataFrame'>\n",
      "RangeIndex: 100000 entries, 0 to 99999\n",
      "Data columns (total 5 columns):\n",
      " #   Column   Non-Null Count   Dtype  \n",
      "---  ------   --------------   -----  \n",
      " 0   id       100000 non-null  object \n",
      " 1   f0       100000 non-null  float64\n",
      " 2   f1       100000 non-null  float64\n",
      " 3   f2       100000 non-null  float64\n",
      " 4   product  100000 non-null  float64\n",
      "dtypes: float64(4), object(1)\n",
      "memory usage: 3.8+ MB\n",
      "None\n",
      "-------------------------------------------------------------------------------------------------------------\n",
      "**Просмотр статистических данных**\n",
      "                  f0             f1             f2        product\n",
      "count  100000.000000  100000.000000  100000.000000  100000.000000\n",
      "mean        0.002023      -0.002081       2.495128      95.000000\n",
      "std         1.732045       1.730417       3.473445      44.749921\n",
      "min        -8.760004      -7.084020     -11.970335       0.000000\n",
      "25%        -1.162288      -1.174820       0.130359      59.450441\n",
      "50%         0.009424      -0.009482       2.484236      94.925613\n",
      "75%         1.158535       1.163678       4.858794     130.595027\n",
      "max         7.238262       7.844801      16.739402     190.029838\n",
      "-------------------------------------------------------------------------------------------------------------\n",
      "**Вывод рандомных строк датафрейма**\n",
      "          id        f0        f1        f2     product\n",
      "43660  dCoRV -0.804419  0.910995  2.886761  102.734478\n",
      "87278  TFdxM -0.401696 -0.024390 -1.195403   72.411400\n",
      "14317  wV83L  0.101773 -1.699503  1.509664   27.076410\n",
      "-------------------------------------------------------------------------------------------------------------\n",
      "**Вывод первых пяти строк датафрейма**\n",
      "      id        f0        f1        f2     product\n",
      "0  fwXo0 -1.146987  0.963328 -0.828965   27.758673\n",
      "1  WJtFt  0.262778  0.269839 -2.530187   56.069697\n",
      "2  ovLUW  0.194587  0.289035 -5.586433   62.871910\n",
      "3  q6cA6  2.236060 -0.553760  0.930038  114.572842\n",
      "4  WPMUX -0.515993  1.716266  5.899011  149.600746\n",
      "-------------------------------------------------------------------------------------------------------------\n",
      "**Вывод количесва дубликатов датафрейма**\n",
      "0\n",
      "-------------------------------------------------------------------------------------------------------------\n",
      "**Вывод количесва пропущеных значений датафрейма**\n",
      "id         0\n",
      "f0         0\n",
      "f1         0\n",
      "f2         0\n",
      "product    0\n",
      "dtype: int64\n",
      "-------------------------------------------------------------------------------------------------------------\n",
      "None\n"
     ]
    }
   ],
   "source": [
    "def fun_date(data):\n",
    "    print('**Общая информация датафрейма**')\n",
    "    print(data.info())\n",
    "    print('-------------------------------------------------------------------------------------------------------------')\n",
    "    print('**Просмотр статистических данных**')\n",
    "    print(data.describe())\n",
    "    print('-------------------------------------------------------------------------------------------------------------')\n",
    "    print('**Вывод рандомных строк датафрейма**')\n",
    "    print(data.sample(n=3, random_state=1))\n",
    "    print('-------------------------------------------------------------------------------------------------------------')\n",
    "    print('**Вывод первых пяти строк датафрейма**')\n",
    "    print(data.head())\n",
    "    print('-------------------------------------------------------------------------------------------------------------')\n",
    "    print('**Вывод количесва дубликатов датафрейма**')\n",
    "    print(data.duplicated().sum())\n",
    "    print('-------------------------------------------------------------------------------------------------------------')\n",
    "    print('**Вывод количесва пропущеных значений датафрейма**')\n",
    "    print(data.isnull().sum())\n",
    "    print('-------------------------------------------------------------------------------------------------------------')\n",
    "print(fun_date(data0))\n",
    "print(fun_date(data1))\n",
    "print(fun_date(data2))"
   ]
  },
  {
   "attachments": {},
   "cell_type": "markdown",
   "metadata": {},
   "source": [
    "Проанализируем наличие дупликатов"
   ]
  },
  {
   "cell_type": "code",
   "execution_count": 6,
   "metadata": {},
   "outputs": [
    {
     "data": {
      "text/plain": [
       "10"
      ]
     },
     "execution_count": 6,
     "metadata": {},
     "output_type": "execute_result"
    }
   ],
   "source": [
    "data0['id'].duplicated().sum()"
   ]
  },
  {
   "cell_type": "code",
   "execution_count": 7,
   "metadata": {},
   "outputs": [
    {
     "data": {
      "text/plain": [
       "4"
      ]
     },
     "execution_count": 7,
     "metadata": {},
     "output_type": "execute_result"
    }
   ],
   "source": [
    "data1['id'].duplicated().sum()\n"
   ]
  },
  {
   "cell_type": "code",
   "execution_count": 8,
   "metadata": {},
   "outputs": [
    {
     "data": {
      "text/plain": [
       "4"
      ]
     },
     "execution_count": 8,
     "metadata": {},
     "output_type": "execute_result"
    }
   ],
   "source": [
    "data2['id'].duplicated().sum()"
   ]
  },
  {
   "attachments": {},
   "cell_type": "markdown",
   "metadata": {},
   "source": [
    "Максимальное количество составляет 0.01% от общего объема данных"
   ]
  },
  {
   "attachments": {},
   "cell_type": "markdown",
   "metadata": {},
   "source": [
    "## Обучение и проверка модели"
   ]
  },
  {
   "attachments": {},
   "cell_type": "markdown",
   "metadata": {},
   "source": [
    "Разделим данные на выборки и определим целевой признак всех датастеов"
   ]
  },
  {
   "cell_type": "code",
   "execution_count": 9,
   "metadata": {},
   "outputs": [
    {
     "name": "stdout",
     "output_type": "stream",
     "text": [
      "Обучающая выборка первого датафрейма: (75000, 3)\n",
      "(75000,)\n",
      "Валидационная выборка первого датафрейма: (25000, 3)\n",
      "(25000,)\n",
      "\n",
      "Обучающая выборка второго датафрейма: (75000, 3)\n",
      "(75000,)\n",
      "Валидационная выборка второго датафрейма: (25000, 3)\n",
      "(25000,)\n",
      "\n",
      "Обучающая выборка третьего датафрейма: (75000, 3)\n",
      "(75000,)\n",
      "Валидационная выборка третьего датафрейма: (25000, 3)\n",
      "(25000,)\n"
     ]
    }
   ],
   "source": [
    "data0_train, data0_valid = train_test_split(data0, test_size=0.25, random_state=12345)\n",
    "data1_train, data1_valid = train_test_split(data1, test_size=0.25, random_state=12345)\n",
    "data2_train, data2_valid = train_test_split(data2, test_size=0.25, random_state=12345)\n",
    "\n",
    "\n",
    "features_train0 = data0_train.drop(['id', 'product'], axis=1)\n",
    "target_train0 = data0_train['product']\n",
    "features_valid0 = data0_valid.drop(['id', 'product'], axis=1)\n",
    "target_valid0 = data0_valid['product']\n",
    "\n",
    "features_train1 = data1_train.drop(['id', 'product'], axis=1)\n",
    "target_train1 = data1_train['product']\n",
    "features_valid1 = data1_valid.drop(['id', 'product'], axis=1)\n",
    "target_valid1 = data1_valid['product']\n",
    "\n",
    "features_train2 = data2_train.drop(['id', 'product'], axis=1)\n",
    "target_train2 = data2_train['product']\n",
    "features_valid2 = data2_valid.drop(['id', 'product'], axis=1)\n",
    "target_valid2 = data2_valid['product']\n",
    "\n",
    "print('Обучающая выборка первого датафрейма:',features_train0.shape)\n",
    "print(target_train0.shape)\n",
    "print('Валидационная выборка первого датафрейма:',features_valid0.shape)\n",
    "print(target_valid0.shape)\n",
    "print()\n",
    "print('Обучающая выборка второго датафрейма:',features_train1.shape)\n",
    "print(target_train1.shape)\n",
    "print('Валидационная выборка второго датафрейма:',features_valid1.shape)\n",
    "print(target_valid1.shape)\n",
    "print()\n",
    "print('Обучающая выборка третьего датафрейма:',features_train2.shape)\n",
    "print(target_train2.shape)\n",
    "print('Валидационная выборка третьего датафрейма:',features_valid2.shape)\n",
    "print(target_valid2.shape)"
   ]
  },
  {
   "attachments": {},
   "cell_type": "markdown",
   "metadata": {},
   "source": [
    "Обучим модели на тестовой выборке и прдскажем резултьтат на валидационной"
   ]
  },
  {
   "cell_type": "code",
   "execution_count": 10,
   "metadata": {},
   "outputs": [
    {
     "name": "stdout",
     "output_type": "stream",
     "text": [
      "Средний предсказанный запас предсказанного сырья в месторождении 92.59256778438035\n",
      "Средний фактический запас сырья в месторождении 92.07859674082927\n",
      "RMSE модели линейной регрессии на валидационной выборке: 37.5794217150813\n"
     ]
    }
   ],
   "source": [
    "#Месторождение 1\n",
    "model = LinearRegression()\n",
    "model.fit(features_train0,target_train0) # обучение модели на тренировочной выборке\n",
    "predictions_valid = model.predict(features_valid0) # предсказания модели на валидационной выборке\n",
    "data0_pred_mean=predictions_valid.mean()\n",
    "result = mean_squared_error(target_valid0,predictions_valid)**0.5\n",
    "data0_predictions_valid = model.predict(features_valid0)\n",
    "\n",
    "print(\"Средний предсказанный запас предсказанного сырья в месторождении\", data0_pred_mean)\n",
    "print(\"Средний фактический запас сырья в месторождении\", target_valid0.mean())\n",
    "print(\"RMSE модели линейной регрессии на валидационной выборке:\", result)"
   ]
  },
  {
   "attachments": {},
   "cell_type": "markdown",
   "metadata": {},
   "source": [
    "Получили результат среднеквадратичного отклонения первого региона =  37.6, проведем аналогичные действия со вторым"
   ]
  },
  {
   "cell_type": "code",
   "execution_count": 11,
   "metadata": {},
   "outputs": [
    {
     "name": "stdout",
     "output_type": "stream",
     "text": [
      "Средний предсказанный запас предсказанного сырья в месторождении 68.728546895446\n",
      "Средний фактический запас сырья в месторождении 68.72313602435997\n",
      "RMSE модели линейной регрессии на валидационной выборке: 0.893099286775617\n"
     ]
    }
   ],
   "source": [
    "#Месторождение 2\n",
    "model = LinearRegression()\n",
    "model.fit(features_train1,target_train1) # обучение модели на тренировочной выборке\n",
    "predictions_valid = model.predict(features_valid1) # предсказания модели на валидационной выборке\n",
    "data1_pred_mean=predictions_valid.mean()\n",
    "result = mean_squared_error(target_valid1,predictions_valid)**0.5\n",
    "data1_predictions_valid = model.predict(features_valid1)\n",
    "\n",
    "print(\"Средний предсказанный запас предсказанного сырья в месторождении\", data1_pred_mean)\n",
    "print(\"Средний фактический запас сырья в месторождении\", target_valid1.mean())\n",
    "print(\"RMSE модели линейной регрессии на валидационной выборке:\", result)"
   ]
  },
  {
   "attachments": {},
   "cell_type": "markdown",
   "metadata": {},
   "source": [
    "Тут отклонение значительно меньше и точность в 47 раз выше предыдуего предсказания"
   ]
  },
  {
   "cell_type": "code",
   "execution_count": 12,
   "metadata": {},
   "outputs": [
    {
     "name": "stdout",
     "output_type": "stream",
     "text": [
      "Средний предсказанный запас предсказанного сырья в месторождении 94.96504596800489\n",
      "Средний фактический запас сырья в месторождении 94.88423280885438\n",
      "RMSE модели линейной регрессии на валидационной выборке: 40.02970873393434\n"
     ]
    }
   ],
   "source": [
    "#Месторождение 3\n",
    "model = LinearRegression()\n",
    "model.fit(features_train2,target_train2) # обучение модели на тренировочной выборке\n",
    "predictions_valid = model.predict(features_valid2) # предсказания модели на валидационной выборке\n",
    "data2_pred_mean=predictions_valid.mean()\n",
    "result = mean_squared_error(target_valid2,predictions_valid)**0.5\n",
    "data2_predictions_valid = model.predict(features_valid2)\n",
    "\n",
    "print(\"Средний предсказанный запас предсказанного сырья в месторождении\", data2_pred_mean)\n",
    "print(\"Средний фактический запас сырья в месторождении\", target_valid2.mean())\n",
    "print(\"RMSE модели линейной регрессии на валидационной выборке:\", result)"
   ]
  },
  {
   "attachments": {},
   "cell_type": "markdown",
   "metadata": {},
   "source": [
    "Этот регион неименее точен в предсказаниях и почти на 10% менее точен чем первый результат."
   ]
  },
  {
   "attachments": {},
   "cell_type": "markdown",
   "metadata": {},
   "source": [
    "## Подготовка к расчёту прибыли"
   ]
  },
  {
   "attachments": {},
   "cell_type": "markdown",
   "metadata": {},
   "source": [
    "Произведм расчет рентабельности скважин исходя из расчетов минимально необходимого объема нефти, для разработки новой"
   ]
  },
  {
   "cell_type": "code",
   "execution_count": 13,
   "metadata": {},
   "outputs": [
    {
     "name": "stdout",
     "output_type": "stream",
     "text": [
      "50000000.0\n",
      "111.11111111111111\n",
      "Объём сырья для безубыточной разработки новой скважины 1 месторождения: 19.032514370281845\n",
      "Объём сырья для безубыточной разработки новой скважины 2 месторождения: 42.38797508675114\n",
      "Объём сырья для безубыточной разработки новой скважины 3 месторождения: 16.226878302256736\n"
     ]
    }
   ],
   "source": [
    "#Сколько денег выделяют на каждую скважину\n",
    "\n",
    "MONEY_ONE_SKVAJ=10_000_000_000/200\n",
    "print(MONEY_ONE_SKVAJ)\n",
    "#сколько нужно тысяч баррелей для того, чтобы окупить затраты\n",
    "COUNT_BARR=MONEY_ONE_SKVAJ/450000\n",
    "\n",
    "print(COUNT_BARR)\n",
    "data0_mean=92.07859674082927\n",
    "data1_mean=68.72313602435997\n",
    "data2_mean=94.88423280885438\n",
    "print('Объём сырья для безубыточной разработки новой скважины 1 месторождения:',COUNT_BARR-data0_mean)\n",
    "print('Объём сырья для безубыточной разработки новой скважины 2 месторождения:',COUNT_BARR-data1_mean)\n",
    "print('Объём сырья для безубыточной разработки новой скважины 3 месторождения:',COUNT_BARR-data2_mean)"
   ]
  },
  {
   "attachments": {},
   "cell_type": "markdown",
   "metadata": {},
   "source": [
    "## Расчёт прибыли и рисков "
   ]
  },
  {
   "attachments": {},
   "cell_type": "markdown",
   "metadata": {},
   "source": [
    "Создадим функцию для расчета прибыльности 200 топовых скважин и применим ко всем трем регионам"
   ]
  },
  {
   "cell_type": "code",
   "execution_count": 14,
   "metadata": {},
   "outputs": [],
   "source": [
    "def profit(target, predictions, count):\n",
    "    profit=0\n",
    "    probs_sorted = predictions.sort_values(ascending=False).head(200)\n",
    "    selected = target[probs_sorted.index][:count] \n",
    "    for top in selected:\n",
    "        profit+=(top-COUNT_BARR)*450000\n",
    "    return profit"
   ]
  },
  {
   "cell_type": "code",
   "execution_count": 15,
   "metadata": {},
   "outputs": [
    {
     "name": "stdout",
     "output_type": "stream",
     "text": [
      "Прибиыльность 200 топовых скважин валидационной выборки 3321 млн.\n"
     ]
    },
    {
     "name": "stderr",
     "output_type": "stream",
     "text": [
      "/tmp/ipykernel_48/3372057489.py:1: SettingWithCopyWarning: \n",
      "A value is trying to be set on a copy of a slice from a DataFrame.\n",
      "Try using .loc[row_indexer,col_indexer] = value instead\n",
      "\n",
      "See the caveats in the documentation: https://pandas.pydata.org/pandas-docs/stable/user_guide/indexing.html#returning-a-view-versus-a-copy\n",
      "  data0_valid['product_pred']=data0_predictions_valid\n"
     ]
    }
   ],
   "source": [
    "data0_valid['product_pred']=data0_predictions_valid\n",
    "\n",
    "profit0=profit(data0_valid['product'], data0_valid['product_pred'],200)\n",
    "print(\"Прибиыльность 200 топовых скважин валидационной выборки\", round(profit0/1000000), \"млн.\")"
   ]
  },
  {
   "cell_type": "code",
   "execution_count": 16,
   "metadata": {},
   "outputs": [
    {
     "name": "stdout",
     "output_type": "stream",
     "text": [
      "Прибиыльность 200 топовых скважин валидационной выборки 2415 млн.\n"
     ]
    },
    {
     "name": "stderr",
     "output_type": "stream",
     "text": [
      "/tmp/ipykernel_48/2564123118.py:1: SettingWithCopyWarning: \n",
      "A value is trying to be set on a copy of a slice from a DataFrame.\n",
      "Try using .loc[row_indexer,col_indexer] = value instead\n",
      "\n",
      "See the caveats in the documentation: https://pandas.pydata.org/pandas-docs/stable/user_guide/indexing.html#returning-a-view-versus-a-copy\n",
      "  data1_valid['product_pred']=data1_predictions_valid\n"
     ]
    }
   ],
   "source": [
    "data1_valid['product_pred']=data1_predictions_valid\n",
    "\n",
    "profit1=profit(data1_valid['product'], data1_valid['product_pred'],200)\n",
    "print(\"Прибиыльность 200 топовых скважин валидационной выборки\", round(profit1/1000000), \"млн.\")"
   ]
  },
  {
   "cell_type": "code",
   "execution_count": 17,
   "metadata": {},
   "outputs": [
    {
     "name": "stdout",
     "output_type": "stream",
     "text": [
      "Прибиыльность 200 топовых скважин валидационной выборки 2710 млн.\n"
     ]
    },
    {
     "name": "stderr",
     "output_type": "stream",
     "text": [
      "/tmp/ipykernel_48/2977135390.py:1: SettingWithCopyWarning: \n",
      "A value is trying to be set on a copy of a slice from a DataFrame.\n",
      "Try using .loc[row_indexer,col_indexer] = value instead\n",
      "\n",
      "See the caveats in the documentation: https://pandas.pydata.org/pandas-docs/stable/user_guide/indexing.html#returning-a-view-versus-a-copy\n",
      "  data2_valid['product_pred']=data2_predictions_valid\n"
     ]
    }
   ],
   "source": [
    "data2_valid['product_pred']=data2_predictions_valid\n",
    "\n",
    "profit2=profit(data2_valid['product'], data2_valid['product_pred'],200)\n",
    "print(\"Прибиыльность 200 топовых скважин валидационной выборки\", round(profit2/1000000), \"млн.\")"
   ]
  },
  {
   "cell_type": "code",
   "execution_count": 18,
   "metadata": {},
   "outputs": [
    {
     "name": "stdout",
     "output_type": "stream",
     "text": [
      "Для первого месторождения\n",
      "Вероятность убытков 7.6000000000000005 %\n",
      "Среднее значение бутстрепа 403.535244261165 млн.\n",
      "Верхняя граница доверительного интервала 931574367.5508461\n",
      "Нижняя граница доверительного интервала -118327362.12311177\n",
      "\n",
      "\n",
      "Для второго месторождения\n",
      "Вероятность убытков 1.7000000000000002 %\n",
      "Среднее значение бутстрепа 465.04105822107704 млн.\n",
      "Верхняя граница доверительного интервала 864388463.3254703\n",
      "Нижняя граница доверительного интервала 32036742.850023583\n",
      "\n",
      "\n",
      "Для третьего месторождения\n",
      "Вероятность убытков 7.9 %\n",
      "Среднее значение бутстрепа 414.20972284096746 млн.\n",
      "Верхняя граница доверительного интервала 972339167.9202834\n",
      "Нижняя граница доверительного интервала -148373898.68249217\n",
      "\n"
     ]
    }
   ],
   "source": [
    "def boots (target, predictions):\n",
    "    state = np.random.RandomState(12345)\n",
    "    values = []\n",
    "    counter=0\n",
    "    for i in range(1000):\n",
    "        target_subsample = target.sample(n=500, replace=True, random_state=state)\n",
    "        preds_subsample = predictions[target_subsample.index]\n",
    "        \n",
    "        values.append(profit(target_subsample, preds_subsample, 500))\n",
    "        \n",
    "    values = pd.Series(values)\n",
    "    lower = values.quantile(0.025)\n",
    "    higher = values.quantile(0.975)\n",
    "    \n",
    "    print('Вероятность убытков',stats.percentileofscore(values, 0),'%')\n",
    "    print(\"Среднее значение бутстрепа\", (values.mean())/1000000, \"млн.\")\n",
    "    print(\"Верхняя граница доверительного интервала\", higher)\n",
    "    print(\"Нижняя граница доверительного интервала\", lower)\n",
    "    print()\n",
    "print(\"Для первого месторождения\")\n",
    "boots(data0_valid['product'], data0_valid['product_pred'])\n",
    "print()\n",
    "print(\"Для второго месторождения\")\n",
    "boots(data1_valid['product'], data1_valid['product_pred'])\n",
    "print()\n",
    "print(\"Для третьего месторождения\")\n",
    "boots(data2_valid['product'], data2_valid['product_pred'])"
   ]
  },
  {
   "attachments": {},
   "cell_type": "markdown",
   "metadata": {},
   "source": [
    "В результате исследования получили такую вероятность убытков:\n",
    "1. Первое месторождение 7.6%\n",
    "2. Второе месторождение 1.7%\n",
    "3. Третье месторождение 7.9%\n",
    "Исходя из данныых, делаем вывод, что вероятность убытков равна не более 8%, а максимально оптимистичной в плане безрисковости является второе месторождение, которое, показало результат по среденквадратичному отклонению 0.8%"
   ]
  }
 ],
 "metadata": {
  "ExecuteTimeLog": [
   {
    "duration": 1133,
    "start_time": "2023-03-13T20:27:19.388Z"
   },
   {
    "duration": 3,
    "start_time": "2023-03-13T20:27:20.523Z"
   },
   {
    "duration": 242,
    "start_time": "2023-03-13T20:27:20.528Z"
   },
   {
    "duration": 212,
    "start_time": "2023-03-13T20:27:39.518Z"
   },
   {
    "duration": 224,
    "start_time": "2023-03-13T20:28:00.592Z"
   },
   {
    "duration": 288,
    "start_time": "2023-03-13T20:34:56.407Z"
   },
   {
    "duration": 18,
    "start_time": "2023-03-13T20:36:08.393Z"
   },
   {
    "duration": 16,
    "start_time": "2023-03-13T20:36:23.590Z"
   },
   {
    "duration": 18,
    "start_time": "2023-03-13T20:36:25.121Z"
   },
   {
    "duration": 30,
    "start_time": "2023-03-13T20:36:26.899Z"
   },
   {
    "duration": 58,
    "start_time": "2023-03-13T20:37:18.290Z"
   },
   {
    "duration": 53,
    "start_time": "2023-03-13T20:38:41.304Z"
   },
   {
    "duration": 29,
    "start_time": "2023-03-13T20:38:55.571Z"
   },
   {
    "duration": 85,
    "start_time": "2023-03-13T20:39:13.075Z"
   },
   {
    "duration": 4,
    "start_time": "2023-03-13T20:39:43.522Z"
   },
   {
    "duration": 3,
    "start_time": "2023-03-13T20:40:13.594Z"
   },
   {
    "duration": 11,
    "start_time": "2023-03-13T20:40:25.399Z"
   },
   {
    "duration": 9,
    "start_time": "2023-03-13T20:40:37.091Z"
   },
   {
    "duration": 9,
    "start_time": "2023-03-13T20:40:51.544Z"
   },
   {
    "duration": 3277,
    "start_time": "2023-03-13T20:41:06.929Z"
   },
   {
    "duration": 54,
    "start_time": "2023-03-14T19:17:16.744Z"
   },
   {
    "duration": 1209,
    "start_time": "2023-03-14T19:17:27.049Z"
   },
   {
    "duration": 597,
    "start_time": "2023-03-14T19:17:36.697Z"
   },
   {
    "duration": 554,
    "start_time": "2023-03-14T19:17:37.296Z"
   },
   {
    "duration": 537,
    "start_time": "2023-03-14T19:17:38.029Z"
   },
   {
    "duration": 344,
    "start_time": "2023-03-14T19:18:31.857Z"
   },
   {
    "duration": 24,
    "start_time": "2023-03-14T19:19:53.809Z"
   },
   {
    "duration": 60,
    "start_time": "2023-03-14T19:21:51.496Z"
   },
   {
    "duration": 46,
    "start_time": "2023-03-14T19:23:01.604Z"
   },
   {
    "duration": 20,
    "start_time": "2023-03-14T19:24:49.589Z"
   },
   {
    "duration": 5,
    "start_time": "2023-03-14T19:43:45.758Z"
   },
   {
    "duration": 1373,
    "start_time": "2023-03-14T20:22:09.018Z"
   },
   {
    "duration": 8,
    "start_time": "2023-03-14T20:22:20.779Z"
   },
   {
    "duration": 63,
    "start_time": "2023-03-14T20:22:26.387Z"
   },
   {
    "duration": 182,
    "start_time": "2023-03-14T20:22:27.468Z"
   },
   {
    "duration": 110,
    "start_time": "2023-03-14T20:22:28.665Z"
   },
   {
    "duration": 30,
    "start_time": "2023-03-14T20:22:29.762Z"
   },
   {
    "duration": 6,
    "start_time": "2023-03-14T20:22:31.911Z"
   },
   {
    "duration": 3,
    "start_time": "2023-03-14T20:22:33.818Z"
   },
   {
    "duration": 12,
    "start_time": "2023-03-14T20:22:34.207Z"
   },
   {
    "duration": 9,
    "start_time": "2023-03-14T20:22:34.571Z"
   },
   {
    "duration": 10,
    "start_time": "2023-03-14T20:22:34.973Z"
   },
   {
    "duration": 3724,
    "start_time": "2023-03-14T20:22:36.180Z"
   },
   {
    "duration": 4,
    "start_time": "2023-03-14T20:22:59.108Z"
   },
   {
    "duration": 156,
    "start_time": "2023-03-14T20:23:00.251Z"
   },
   {
    "duration": 139,
    "start_time": "2023-03-14T20:23:00.585Z"
   },
   {
    "duration": 169,
    "start_time": "2023-03-14T20:23:00.939Z"
   },
   {
    "duration": 343,
    "start_time": "2023-03-14T20:23:01.659Z"
   },
   {
    "duration": 32,
    "start_time": "2023-03-14T20:23:02.469Z"
   },
   {
    "duration": 33,
    "start_time": "2023-03-14T20:23:02.841Z"
   },
   {
    "duration": 26,
    "start_time": "2023-03-14T20:23:03.189Z"
   },
   {
    "duration": 66,
    "start_time": "2023-03-14T20:23:04.574Z"
   },
   {
    "duration": 58,
    "start_time": "2023-03-14T20:23:05.294Z"
   },
   {
    "duration": 50,
    "start_time": "2023-03-14T20:23:06.009Z"
   },
   {
    "duration": 36,
    "start_time": "2023-03-14T20:23:06.709Z"
   },
   {
    "duration": 5,
    "start_time": "2023-03-14T20:23:08.203Z"
   },
   {
    "duration": 4,
    "start_time": "2023-03-14T20:23:09.692Z"
   },
   {
    "duration": 10,
    "start_time": "2023-03-14T20:23:10.083Z"
   },
   {
    "duration": 12,
    "start_time": "2023-03-14T20:23:10.491Z"
   },
   {
    "duration": 9,
    "start_time": "2023-03-14T20:23:10.886Z"
   },
   {
    "duration": 3647,
    "start_time": "2023-03-14T20:23:11.409Z"
   },
   {
    "duration": 1854,
    "start_time": "2023-03-15T17:55:29.559Z"
   },
   {
    "duration": 261,
    "start_time": "2023-03-15T17:55:31.416Z"
   },
   {
    "duration": 237,
    "start_time": "2023-03-15T17:55:31.679Z"
   },
   {
    "duration": 236,
    "start_time": "2023-03-15T17:55:31.918Z"
   },
   {
    "duration": 372,
    "start_time": "2023-03-15T17:55:32.156Z"
   },
   {
    "duration": 34,
    "start_time": "2023-03-15T17:55:32.530Z"
   },
   {
    "duration": 22,
    "start_time": "2023-03-15T17:55:32.566Z"
   },
   {
    "duration": 27,
    "start_time": "2023-03-15T17:55:32.590Z"
   },
   {
    "duration": 89,
    "start_time": "2023-03-15T17:55:32.619Z"
   },
   {
    "duration": 155,
    "start_time": "2023-03-15T17:55:32.710Z"
   },
   {
    "duration": 115,
    "start_time": "2023-03-15T17:55:32.868Z"
   },
   {
    "duration": 186,
    "start_time": "2023-03-15T17:55:32.985Z"
   },
   {
    "duration": 105,
    "start_time": "2023-03-15T17:55:33.173Z"
   },
   {
    "duration": 10,
    "start_time": "2023-03-15T17:55:33.366Z"
   },
   {
    "duration": 12,
    "start_time": "2023-03-15T17:55:33.378Z"
   },
   {
    "duration": 12,
    "start_time": "2023-03-15T17:55:33.392Z"
   },
   {
    "duration": 16,
    "start_time": "2023-03-15T17:55:33.406Z"
   },
   {
    "duration": 3741,
    "start_time": "2023-03-15T17:55:33.424Z"
   },
   {
    "duration": 16,
    "start_time": "2023-03-15T18:05:09.175Z"
   }
  ],
  "kernelspec": {
   "display_name": "Python 3 (ipykernel)",
   "language": "python",
   "name": "python3"
  },
  "language_info": {
   "codemirror_mode": {
    "name": "ipython",
    "version": 3
   },
   "file_extension": ".py",
   "mimetype": "text/x-python",
   "name": "python",
   "nbconvert_exporter": "python",
   "pygments_lexer": "ipython3",
   "version": "3.9.5"
  },
  "toc": {
   "base_numbering": 1,
   "nav_menu": {},
   "number_sections": true,
   "sideBar": true,
   "skip_h1_title": true,
   "title_cell": "Table of Contents",
   "title_sidebar": "Contents",
   "toc_cell": false,
   "toc_position": {},
   "toc_section_display": true,
   "toc_window_display": true
  }
 },
 "nbformat": 4,
 "nbformat_minor": 2
}
